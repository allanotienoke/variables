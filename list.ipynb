{
 "cells": [
  {
   "cell_type": "code",
   "execution_count": 4,
   "metadata": {},
   "outputs": [
    {
     "name": "stdout",
     "output_type": "stream",
     "text": [
      "Hello\n",
      "<class 'str'>\n",
      "<class 'int'>\n"
     ]
    }
   ],
   "source": [
    "print(\"Hello\")\n",
    "name=\"John Doe\"\n",
    "print(type(name))\n",
    "\n",
    "x=10\n",
    "print(type(x))"
   ]
  },
  {
   "cell_type": "code",
   "execution_count": 8,
   "metadata": {},
   "outputs": [
    {
     "name": "stdout",
     "output_type": "stream",
     "text": [
      "[1, 2, 3, 4, 5]\n",
      "[' sugar, bread, milk, detergent']\n"
     ]
    }
   ],
   "source": [
    "numbers = [1, 2, 3, 4, 5]\n",
    "print(numbers)\n",
    "\n",
    "shopping = [' sugar, bread, milk, detergent']\n",
    "print(shopping)\n"
   ]
  },
  {
   "cell_type": "code",
   "execution_count": 12,
   "metadata": {},
   "outputs": [
    {
     "ename": "SyntaxError",
     "evalue": "unterminated string literal (detected at line 8) (3757268441.py, line 8)",
     "output_type": "error",
     "traceback": [
      "\u001b[1;36m  Cell \u001b[1;32mIn[12], line 8\u001b[1;36m\u001b[0m\n\u001b[1;33m    [\"Honda Civic, \"Honda Fit\", \" Honda CR-V\"]]\u001b[0m\n\u001b[1;37m                                            ^\u001b[0m\n\u001b[1;31mSyntaxError\u001b[0m\u001b[1;31m:\u001b[0m unterminated string literal (detected at line 8)\n"
     ]
    }
   ],
   "source": [
    "shopping = [' sugar, bread, milk, detergent']\n",
    "for index, item in enumerate(shopping) :\n",
    "    print(f\"index: {index} {item}\")\n",
    "\n",
    "    cars=[\n",
    "        [\"Toyota Corolla\", \"Toyota Camry\", \"Toyota Probox\", \"Toyota Harrier\"],\n",
    "        [\"Ford Mustang\", \" Ford Explorer\", \" Ford Raptor\", \"Ford F-150\"],\n",
    "        [\"Honda Civic, \"Honda Fit\", \" Honda CR-V\"]]\n",
    "    print=(cars)"
   ]
  },
  {
   "cell_type": "code",
   "execution_count": 2,
   "metadata": {},
   "outputs": [
    {
     "name": "stdout",
     "output_type": "stream",
     "text": [
      "sugar\n",
      "bread\n",
      "cooking oil\n",
      "milk\n",
      "detergent\n"
     ]
    }
   ],
   "source": [
    "shopping = [\"sugar\", \"bread\", \"milk\", \"detergent\"]\n",
    "#shopping.append(\"cooking oil\")\n",
    "#shopping.extend([\"cooking oil\",\"salt\"])\n",
    "shopping.insert(2,\"cooking oil\")\n",
    "\n",
    "\n",
    "\n",
    "for item in shopping:\n",
    "    print (item)"
   ]
  },
  {
   "cell_type": "code",
   "execution_count": 5,
   "metadata": {},
   "outputs": [
    {
     "name": "stdout",
     "output_type": "stream",
     "text": [
      "bread\n",
      "milk\n",
      "detergent\n"
     ]
    }
   ],
   "source": [
    "shopping = [\"sugar\", \"bread\", \"milk\", \"detergent\"]\n",
    "shopping.remove(\"sugar\")\n",
    "\n",
    "for item in shopping:\n",
    "    print (item)\n",
    "\n"
   ]
  },
  {
   "cell_type": "code",
   "execution_count": 7,
   "metadata": {},
   "outputs": [
    {
     "name": "stdout",
     "output_type": "stream",
     "text": [
      "sugar\n",
      "milk\n",
      "detergent\n"
     ]
    }
   ],
   "source": [
    "shopping = [\"sugar\", \"bread\", \"milk\", \"detergent\"]\n",
    "shopping.pop(1)\n",
    "\n",
    "for item in shopping:\n",
    "    print (item)\n"
   ]
  },
  {
   "cell_type": "code",
   "execution_count": 9,
   "metadata": {},
   "outputs": [
    {
     "name": "stdout",
     "output_type": "stream",
     "text": [
      "2\n"
     ]
    }
   ],
   "source": [
    "shopping = [\"sugar\", \"bread\", \"milk\", \"detergent\", \"sugar\"]\n",
    "count= shopping.count(\"sugar\")\n",
    "print(count)\n",
    "\n",
    "#for item in shopping:\n",
    " #   print (item)\n"
   ]
  },
  {
   "cell_type": "code",
   "execution_count": 10,
   "metadata": {},
   "outputs": [
    {
     "name": "stdout",
     "output_type": "stream",
     "text": [
      "detergent\n",
      "milk\n",
      "bread\n",
      "sugar\n"
     ]
    }
   ],
   "source": [
    "shopping = [\"sugar\", \"bread\", \"milk\", \"detergent\"]\n",
    "shopping.reverse()\n",
    "\n",
    "for item in shopping:\n",
    "    print (item)\n"
   ]
  }
 ],
 "metadata": {
  "kernelspec": {
   "display_name": "Python 3",
   "language": "python",
   "name": "python3"
  },
  "language_info": {
   "codemirror_mode": {
    "name": "ipython",
    "version": 3
   },
   "file_extension": ".py",
   "mimetype": "text/x-python",
   "name": "python",
   "nbconvert_exporter": "python",
   "pygments_lexer": "ipython3",
   "version": "3.12.6"
  }
 },
 "nbformat": 4,
 "nbformat_minor": 2
}
